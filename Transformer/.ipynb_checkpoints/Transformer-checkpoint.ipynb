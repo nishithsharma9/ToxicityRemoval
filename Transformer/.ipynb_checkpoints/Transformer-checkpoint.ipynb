{
 "cells": [
  {
   "cell_type": "code",
   "execution_count": 1,
   "metadata": {
    "colab": {
     "base_uri": "https://localhost:8080/"
    },
    "id": "ZDWLbonHgtEU",
    "outputId": "8b42fcfc-4d5d-49ae-b4c5-93379bc56670"
   },
   "outputs": [
    {
     "name": "stdout",
     "output_type": "stream",
     "text": [
      "Cloning into 'NLUProject'...\n",
      "remote: Enumerating objects: 242, done.\u001b[K\n",
      "remote: Counting objects: 100% (7/7), done.\u001b[K\n",
      "remote: Compressing objects: 100% (7/7), done.\u001b[K\n",
      "remote: Total 242 (delta 0), reused 5 (delta 0), pack-reused 235\u001b[K\n",
      "Receiving objects: 100% (242/242), 155.49 MiB | 15.77 MiB/s, done.\n",
      "Resolving deltas: 100% (110/110), done.\n",
      "Checking out files: 100% (69/69), done.\n"
     ]
    }
   ],
   "source": [
    "!git clone \"https://github.com/nishithsharma9/NLUProject.git\""
   ]
  },
  {
   "cell_type": "code",
   "execution_count": 3,
   "metadata": {},
   "outputs": [
    {
     "name": "stdout",
     "output_type": "stream",
     "text": [
      "/Users/nishithsharma/Documents/1. FDS\n"
     ]
    }
   ],
   "source": [
    "cd ../"
   ]
  },
  {
   "cell_type": "code",
   "execution_count": 4,
   "metadata": {},
   "outputs": [
    {
     "data": {
      "text/plain": [
       "'/Users/nishithsharma/Documents/1. FDS'"
      ]
     },
     "execution_count": 4,
     "metadata": {},
     "output_type": "execute_result"
    }
   ],
   "source": [
    "pwd"
   ]
  },
  {
   "cell_type": "code",
   "execution_count": 5,
   "metadata": {
    "id": "h2WvOw6Phb6Q"
   },
   "outputs": [],
   "source": [
    "import pickle\n",
    "from ToxicityRemoval.Transformer.Models.ToxicityTransformer import ToxicityTransformer"
   ]
  },
  {
   "cell_type": "code",
   "execution_count": 7,
   "metadata": {
    "id": "nvyc5ap_iRsI"
   },
   "outputs": [
    {
     "ename": "ModuleNotFoundError",
     "evalue": "No module named 'spacy'",
     "output_type": "error",
     "traceback": [
      "\u001b[0;31m---------------------------------------------------------------------------\u001b[0m",
      "\u001b[0;31mModuleNotFoundError\u001b[0m                       Traceback (most recent call last)",
      "Cell \u001b[0;32mIn [7], line 2\u001b[0m\n\u001b[1;32m      1\u001b[0m \u001b[38;5;28;01mwith\u001b[39;00m \u001b[38;5;28mopen\u001b[39m(\u001b[38;5;124m'\u001b[39m\u001b[38;5;124mToxicityRemoval/Transformer/toxicTransformer.pickle\u001b[39m\u001b[38;5;124m'\u001b[39m, \u001b[38;5;124m'\u001b[39m\u001b[38;5;124mrb\u001b[39m\u001b[38;5;124m'\u001b[39m) \u001b[38;5;28;01mas\u001b[39;00m config_dictionary_file:\n\u001b[0;32m----> 2\u001b[0m   transformer \u001b[38;5;241m=\u001b[39m pickle\u001b[38;5;241m.\u001b[39mload(config_dictionary_file)\n",
      "\u001b[0;31mModuleNotFoundError\u001b[0m: No module named 'spacy'"
     ]
    }
   ],
   "source": [
    "with open('ToxicityRemoval/Transformer/toxicTransformer.pickle', 'rb') as config_dictionary_file:\n",
    "  transformer = pickle.load(config_dictionary_file)"
   ]
  },
  {
   "cell_type": "code",
   "execution_count": 7,
   "metadata": {
    "colab": {
     "base_uri": "https://localhost:8080/"
    },
    "id": "RaMi3fIkiXZp",
    "outputId": "7c05e4ac-5340-48c0-aa8a-ec763aaf6e48"
   },
   "outputs": [
    {
     "data": {
      "text/plain": [
       "{'classification': {'NEGETIVE': 1.0, 'POSITIVE': 1.923815273752183e-11},\n",
       " 'output': 'I hate you because you are a [MASK]',\n",
       " 'span': (fucking moron,)}"
      ]
     },
     "execution_count": 7,
     "metadata": {},
     "output_type": "execute_result"
    }
   ],
   "source": [
    "transformer.predict(\"I hate you because you are a fucking moron\")"
   ]
  }
 ],
 "metadata": {
  "colab": {
   "name": "Transformer.ipynb",
   "provenance": []
  },
  "kernelspec": {
   "display_name": "Python 3 (ipykernel)",
   "language": "python",
   "name": "python3"
  },
  "language_info": {
   "codemirror_mode": {
    "name": "ipython",
    "version": 3
   },
   "file_extension": ".py",
   "mimetype": "text/x-python",
   "name": "python",
   "nbconvert_exporter": "python",
   "pygments_lexer": "ipython3",
   "version": "3.10.7"
  }
 },
 "nbformat": 4,
 "nbformat_minor": 1
}
